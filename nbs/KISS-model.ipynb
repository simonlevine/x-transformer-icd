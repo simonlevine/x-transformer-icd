{
 "cells": [
  {
   "cell_type": "markdown",
   "metadata": {},
   "source": [
    "# KISS Model\n",
    "\n",
    "Simplest possible model that still (sort of) accomplishes our goal, mostly for rapid prototyping"
   ]
  },
  {
   "cell_type": "code",
   "execution_count": 182,
   "metadata": {},
   "outputs": [],
   "source": [
    "import onnxruntime as rt\n",
    "import numpy as np\n",
    "from sklearn.model_selection import train_test_split\n",
    "import pandas as pd\n",
    "import matplotlib.pyplot as plt\n",
    "from sklearn.decomposition import TruncatedSVD\n",
    "from sklearn.feature_extraction.text import TfidfVectorizer\n",
    "from sklearn.ensemble import RandomForestClassifier\n",
    "from sklearn.pipeline import make_pipeline\n",
    "from sklearn.pipeline import Pipeline\n",
    "from skl2onnx import convert_sklearn\n",
    "from skl2onnx.common.data_types import StringTensorType\n",
    "from sklearn.linear_model import LogisticRegression\n",
    "from sklearn.compose import ColumnTransformer\n",
    "\n",
    "from nltk.corpus import stopwords\n",
    "\n",
    "from sklearn.dummy import DummyClassifier\n",
    "from sklearn.metrics import accuracy_score, fbeta_score, jaccard_score"
   ]
  },
  {
   "cell_type": "code",
   "execution_count": 4,
   "metadata": {},
   "outputs": [
    {
     "data": {
      "text/html": [
       "<div>\n",
       "<style scoped>\n",
       "    .dataframe tbody tr th:only-of-type {\n",
       "        vertical-align: middle;\n",
       "    }\n",
       "\n",
       "    .dataframe tbody tr th {\n",
       "        vertical-align: top;\n",
       "    }\n",
       "\n",
       "    .dataframe thead th {\n",
       "        text-align: right;\n",
       "    }\n",
       "</style>\n",
       "<table border=\"1\" class=\"dataframe\">\n",
       "  <thead>\n",
       "    <tr style=\"text-align: right;\">\n",
       "      <th></th>\n",
       "      <th>HADM_ID</th>\n",
       "      <th>TEXT</th>\n",
       "      <th>ICD9_CODE</th>\n",
       "    </tr>\n",
       "  </thead>\n",
       "  <tbody>\n",
       "    <tr>\n",
       "      <th>0</th>\n",
       "      <td>167853.0</td>\n",
       "      <td>Admission Date:  [**2151-7-16**]       Dischar...</td>\n",
       "      <td>01193</td>\n",
       "    </tr>\n",
       "    <tr>\n",
       "      <th>1</th>\n",
       "      <td>167853.0</td>\n",
       "      <td>Admission Date:  [**2151-7-16**]       Dischar...</td>\n",
       "      <td>4254</td>\n",
       "    </tr>\n",
       "    <tr>\n",
       "      <th>2</th>\n",
       "      <td>167853.0</td>\n",
       "      <td>Admission Date:  [**2151-7-16**]       Dischar...</td>\n",
       "      <td>42731</td>\n",
       "    </tr>\n",
       "    <tr>\n",
       "      <th>3</th>\n",
       "      <td>167853.0</td>\n",
       "      <td>Admission Date:  [**2151-7-16**]       Dischar...</td>\n",
       "      <td>2639</td>\n",
       "    </tr>\n",
       "    <tr>\n",
       "      <th>4</th>\n",
       "      <td>167853.0</td>\n",
       "      <td>Admission Date:  [**2151-7-16**]       Dischar...</td>\n",
       "      <td>2762</td>\n",
       "    </tr>\n",
       "  </tbody>\n",
       "</table>\n",
       "</div>"
      ],
      "text/plain": [
       "    HADM_ID                                               TEXT ICD9_CODE\n",
       "0  167853.0  Admission Date:  [**2151-7-16**]       Dischar...     01193\n",
       "1  167853.0  Admission Date:  [**2151-7-16**]       Dischar...      4254\n",
       "2  167853.0  Admission Date:  [**2151-7-16**]       Dischar...     42731\n",
       "3  167853.0  Admission Date:  [**2151-7-16**]       Dischar...      2639\n",
       "4  167853.0  Admission Date:  [**2151-7-16**]       Dischar...      2762"
      ]
     },
     "execution_count": 4,
     "metadata": {},
     "output_type": "execute_result"
    }
   ],
   "source": [
    "diagnosis_df = pd.read_csv(\n",
    "    \"../data/mimiciii-14/DIAGNOSES_ICD.csv.gz\", usecols=[\"HADM_ID\", \"ICD9_CODE\"]\n",
    ")\n",
    "note_events_df = pd.read_csv(\n",
    "    \"../data/mimiciii-14/NOTEEVENTS.csv.gz\", usecols=[\"HADM_ID\", \"TEXT\"]\n",
    ")\n",
    "df = (note_events_df.merge(diagnosis_df)\n",
    "      .set_index(\"HADM_ID\")\n",
    "      .dropna()\n",
    "      .reset_index())\n",
    "df.head()"
   ]
  },
  {
   "cell_type": "code",
   "execution_count": 5,
   "metadata": {},
   "outputs": [],
   "source": [
    "df = df.reset_index()"
   ]
  },
  {
   "cell_type": "code",
   "execution_count": 6,
   "metadata": {},
   "outputs": [
    {
     "data": {
      "text/plain": [
       "(3616703, 4)"
      ]
     },
     "execution_count": 6,
     "metadata": {},
     "output_type": "execute_result"
    }
   ],
   "source": [
    "codes_freq = df[\"ICD9_CODE\"].value_counts()\n",
    "most_frequent = set(codes_freq.index[:10])\n",
    "df_subset = df[df.ICD9_CODE.isin(most_frequent)]\n",
    "df_subset.shape"
   ]
  },
  {
   "cell_type": "code",
   "execution_count": 7,
   "metadata": {},
   "outputs": [
    {
     "data": {
      "text/plain": [
       "array(['42731', '51881', '5849', '41401', '4019', '4280', '5990', '25000',\n",
       "       '769', '7742'], dtype=object)"
      ]
     },
     "execution_count": 7,
     "metadata": {},
     "output_type": "execute_result"
    }
   ],
   "source": [
    "df_subset.ICD9_CODE.unique()"
   ]
  },
  {
   "cell_type": "code",
   "execution_count": 8,
   "metadata": {},
   "outputs": [],
   "source": [
    "df_subset2 = df_subset.sample(n=50000)"
   ]
  },
  {
   "cell_type": "code",
   "execution_count": 10,
   "metadata": {},
   "outputs": [
    {
     "data": {
      "text/plain": [
       "(50000, 4)"
      ]
     },
     "execution_count": 10,
     "metadata": {},
     "output_type": "execute_result"
    }
   ],
   "source": [
    "df_subset2.shape"
   ]
  },
  {
   "cell_type": "code",
   "execution_count": 11,
   "metadata": {},
   "outputs": [
    {
     "data": {
      "text/html": [
       "<div>\n",
       "<style scoped>\n",
       "    .dataframe tbody tr th:only-of-type {\n",
       "        vertical-align: middle;\n",
       "    }\n",
       "\n",
       "    .dataframe tbody tr th {\n",
       "        vertical-align: top;\n",
       "    }\n",
       "\n",
       "    .dataframe thead th {\n",
       "        text-align: right;\n",
       "    }\n",
       "</style>\n",
       "<table border=\"1\" class=\"dataframe\">\n",
       "  <thead>\n",
       "    <tr style=\"text-align: right;\">\n",
       "      <th></th>\n",
       "      <th>TEXT</th>\n",
       "      <th>7742</th>\n",
       "      <th>5849</th>\n",
       "      <th>5990</th>\n",
       "      <th>4280</th>\n",
       "      <th>769</th>\n",
       "      <th>42731</th>\n",
       "      <th>51881</th>\n",
       "      <th>41401</th>\n",
       "      <th>4019</th>\n",
       "      <th>25000</th>\n",
       "    </tr>\n",
       "  </thead>\n",
       "  <tbody>\n",
       "    <tr>\n",
       "      <th>156143.0</th>\n",
       "      <td>Neonatology NP Note\\nPE\\nswaddled in open crib...</td>\n",
       "      <td>True</td>\n",
       "      <td>False</td>\n",
       "      <td>False</td>\n",
       "      <td>False</td>\n",
       "      <td>True</td>\n",
       "      <td>False</td>\n",
       "      <td>False</td>\n",
       "      <td>False</td>\n",
       "      <td>False</td>\n",
       "      <td>False</td>\n",
       "    </tr>\n",
       "    <tr>\n",
       "      <th>150509.0</th>\n",
       "      <td>34F with asthma, DM, HTN, G3P1 POD#9 from Csec...</td>\n",
       "      <td>False</td>\n",
       "      <td>True</td>\n",
       "      <td>False</td>\n",
       "      <td>False</td>\n",
       "      <td>False</td>\n",
       "      <td>False</td>\n",
       "      <td>True</td>\n",
       "      <td>False</td>\n",
       "      <td>False</td>\n",
       "      <td>True</td>\n",
       "    </tr>\n",
       "    <tr>\n",
       "      <th>154108.0</th>\n",
       "      <td>Neonatology Attending\\nDOL 7\\n\\nIn room air wi...</td>\n",
       "      <td>True</td>\n",
       "      <td>False</td>\n",
       "      <td>False</td>\n",
       "      <td>False</td>\n",
       "      <td>True</td>\n",
       "      <td>False</td>\n",
       "      <td>False</td>\n",
       "      <td>False</td>\n",
       "      <td>False</td>\n",
       "      <td>False</td>\n",
       "    </tr>\n",
       "    <tr>\n",
       "      <th>131259.0</th>\n",
       "      <td>[**2138-3-24**] 12:30 PM\\n VIDEO OROPHARYNGEAL...</td>\n",
       "      <td>False</td>\n",
       "      <td>False</td>\n",
       "      <td>True</td>\n",
       "      <td>False</td>\n",
       "      <td>False</td>\n",
       "      <td>True</td>\n",
       "      <td>False</td>\n",
       "      <td>True</td>\n",
       "      <td>True</td>\n",
       "      <td>False</td>\n",
       "    </tr>\n",
       "    <tr>\n",
       "      <th>100694.0</th>\n",
       "      <td>Normal sinus rhythm.  Borderline A-V conductio...</td>\n",
       "      <td>False</td>\n",
       "      <td>False</td>\n",
       "      <td>False</td>\n",
       "      <td>True</td>\n",
       "      <td>False</td>\n",
       "      <td>False</td>\n",
       "      <td>False</td>\n",
       "      <td>False</td>\n",
       "      <td>False</td>\n",
       "      <td>False</td>\n",
       "    </tr>\n",
       "  </tbody>\n",
       "</table>\n",
       "</div>"
      ],
      "text/plain": [
       "                                                       TEXT   7742   5849  \\\n",
       "156143.0  Neonatology NP Note\\nPE\\nswaddled in open crib...   True  False   \n",
       "150509.0  34F with asthma, DM, HTN, G3P1 POD#9 from Csec...  False   True   \n",
       "154108.0  Neonatology Attending\\nDOL 7\\n\\nIn room air wi...   True  False   \n",
       "131259.0  [**2138-3-24**] 12:30 PM\\n VIDEO OROPHARYNGEAL...  False  False   \n",
       "100694.0  Normal sinus rhythm.  Borderline A-V conductio...  False  False   \n",
       "\n",
       "           5990   4280    769  42731  51881  41401   4019  25000  \n",
       "156143.0  False  False   True  False  False  False  False  False  \n",
       "150509.0  False  False  False  False   True  False  False   True  \n",
       "154108.0  False  False   True  False  False  False  False  False  \n",
       "131259.0   True  False  False   True  False   True   True  False  \n",
       "100694.0  False   True  False  False  False  False  False  False  "
      ]
     },
     "execution_count": 11,
     "metadata": {},
     "output_type": "execute_result"
    }
   ],
   "source": [
    "icd9_codes = list(df_subset2.ICD9_CODE.unique())\n",
    "ddf = pd.DataFrame(index=df_subset2.HADM_ID.unique(), columns=[\"TEXT\"] + icd9_codes).fillna(False)\n",
    "for idx, row in df_subset2.iterrows():\n",
    "    ddf.loc[row.HADM_ID, \"TEXT\"] = row.TEXT\n",
    "    ddf.loc[row.HADM_ID, row.ICD9_CODE] = True\n",
    "ddf.head()"
   ]
  },
  {
   "cell_type": "code",
   "execution_count": 22,
   "metadata": {},
   "outputs": [
    {
     "data": {
      "text/plain": [
       "7"
      ]
     },
     "execution_count": 22,
     "metadata": {},
     "output_type": "execute_result"
    }
   ],
   "source": [
    "ddf[icd9_codes].sum(axis=1).max()"
   ]
  },
  {
   "cell_type": "code",
   "execution_count": 191,
   "metadata": {},
   "outputs": [],
   "source": [
    "X = ddf[[\"TEXT\"]].values\n",
    "y = ddf[icd9_codes[0]].values.astype(\"int64\")"
   ]
  },
  {
   "cell_type": "code",
   "execution_count": 192,
   "metadata": {},
   "outputs": [
    {
     "data": {
      "text/plain": [
       "((18984, 1), (18984,))"
      ]
     },
     "execution_count": 192,
     "metadata": {},
     "output_type": "execute_result"
    }
   ],
   "source": [
    "X.shape, y.shape"
   ]
  },
  {
   "cell_type": "code",
   "execution_count": 193,
   "metadata": {},
   "outputs": [],
   "source": [
    "X_train, X_test, y_train, y_test = \\\n",
    "    train_test_split(X, y, test_size=0.33, random_state=42)"
   ]
  },
  {
   "cell_type": "code",
   "execution_count": 194,
   "metadata": {},
   "outputs": [],
   "source": [
    "pipeline = Pipeline(steps=[\n",
    "    (\"reshape\", ColumnTransformer([\n",
    "        (\"vectorize\", TfidfVectorizer(), 0),\n",
    "    ])),\n",
    "    (\"dimensionality_reduction\", TruncatedSVD(n_components=50)),\n",
    "    (\"classifier\", RandomForestClassifier()),\n",
    "])"
   ]
  },
  {
   "cell_type": "code",
   "execution_count": 195,
   "metadata": {},
   "outputs": [
    {
     "data": {
      "text/plain": [
       "((12719, 1), (12719,))"
      ]
     },
     "execution_count": 195,
     "metadata": {},
     "output_type": "execute_result"
    }
   ],
   "source": [
    "X_train.shape, y_train.shape"
   ]
  },
  {
   "cell_type": "code",
   "execution_count": 196,
   "metadata": {},
   "outputs": [
    {
     "data": {
      "text/plain": [
       "Pipeline(memory=None,\n",
       "         steps=[('reshape',\n",
       "                 ColumnTransformer(n_jobs=None, remainder='drop',\n",
       "                                   sparse_threshold=0.3,\n",
       "                                   transformer_weights=None,\n",
       "                                   transformers=[('vectorize',\n",
       "                                                  TfidfVectorizer(analyzer='word',\n",
       "                                                                  binary=False,\n",
       "                                                                  decode_error='strict',\n",
       "                                                                  dtype=<class 'numpy.float64'>,\n",
       "                                                                  encoding='utf-8',\n",
       "                                                                  input='content',\n",
       "                                                                  lowercase=True,\n",
       "                                                                  max_df=1.0,\n",
       "                                                                  max_features=None,\n",
       "                                                                  min_df=1,\n",
       "                                                                  ngram_ran...\n",
       "                 RandomForestClassifier(bootstrap=True, ccp_alpha=0.0,\n",
       "                                        class_weight=None, criterion='gini',\n",
       "                                        max_depth=None, max_features='auto',\n",
       "                                        max_leaf_nodes=None, max_samples=None,\n",
       "                                        min_impurity_decrease=0.0,\n",
       "                                        min_impurity_split=None,\n",
       "                                        min_samples_leaf=1, min_samples_split=2,\n",
       "                                        min_weight_fraction_leaf=0.0,\n",
       "                                        n_estimators=100, n_jobs=None,\n",
       "                                        oob_score=False, random_state=None,\n",
       "                                        verbose=0, warm_start=False))],\n",
       "         verbose=False)"
      ]
     },
     "execution_count": 196,
     "metadata": {},
     "output_type": "execute_result"
    }
   ],
   "source": [
    "pipeline.fit(X_train, y_train)"
   ]
  },
  {
   "cell_type": "code",
   "execution_count": 177,
   "metadata": {
    "jupyter": {
     "source_hidden": true
    }
   },
   "outputs": [],
   "source": [
    "# dummy = Pipeline(steps=[\n",
    "#     (\"reshape\", ColumnTransformer([\n",
    "#         (\"vectorize\", TfidfVectorizer(stop_words=\"english\"), 0),\n",
    "#     ])),\n",
    "#     (\"dimensionality_reduction\", TruncatedSVD(n_components=50)),\n",
    "#     (\"classifier\", DummyClassifier(strategy=\"uniform\")),\n",
    "# ])\n",
    "# dummy.fit(X_train, y_train)"
   ]
  },
  {
   "cell_type": "code",
   "execution_count": 153,
   "metadata": {
    "collapsed": true,
    "jupyter": {
     "outputs_hidden": true,
     "source_hidden": true
    }
   },
   "outputs": [
    {
     "data": {
      "text/plain": [
       "(0.0009577015163607343, 0.04325618515562649)"
      ]
     },
     "execution_count": 153,
     "metadata": {},
     "output_type": "execute_result"
    }
   ],
   "source": [
    "accuracy_score(y_test, dummy.predict(X_test)), accuracy_score(y_test, pipeline.predict(X_test))"
   ]
  },
  {
   "cell_type": "code",
   "execution_count": 154,
   "metadata": {
    "collapsed": true,
    "jupyter": {
     "outputs_hidden": true,
     "source_hidden": true
    }
   },
   "outputs": [
    {
     "data": {
      "text/plain": [
       "(0.14369919653691138, 0.0598540386760255)"
      ]
     },
     "execution_count": 154,
     "metadata": {},
     "output_type": "execute_result"
    }
   ],
   "source": [
    "jaccard_score(y_test, dummy.predict(X_test), average=\"weighted\"), jaccard_score(y_test, pipeline.predict(X_test), average=\"weighted\")"
   ]
  },
  {
   "cell_type": "code",
   "execution_count": 155,
   "metadata": {
    "collapsed": true,
    "jupyter": {
     "outputs_hidden": true,
     "source_hidden": true
    }
   },
   "outputs": [
    {
     "data": {
      "text/plain": [
       "(0.25479296832605325, 0.07932491745885362)"
      ]
     },
     "execution_count": 155,
     "metadata": {},
     "output_type": "execute_result"
    }
   ],
   "source": [
    "fbeta_score(y_test, dummy.predict(X_test), beta=1, average=\"weighted\"), fbeta_score(y_test, pipeline.predict(X_test), beta=1, average=\"weighted\")"
   ]
  },
  {
   "cell_type": "code",
   "execution_count": 156,
   "metadata": {
    "collapsed": true,
    "jupyter": {
     "outputs_hidden": true,
     "source_hidden": true
    }
   },
   "outputs": [
    {
     "data": {
      "text/plain": [
       "array([[False, False, False, False, False, False, False, False, False,\n",
       "        False],\n",
       "       [ True, False, False, False,  True, False, False, False, False,\n",
       "        False]])"
      ]
     },
     "execution_count": 156,
     "metadata": {},
     "output_type": "execute_result"
    }
   ],
   "source": [
    "pipeline.predict(X_test.iloc[0:2])"
   ]
  },
  {
   "cell_type": "code",
   "execution_count": 199,
   "metadata": {},
   "outputs": [
    {
     "name": "stderr",
     "output_type": "stream",
     "text": [
      "/Users/jeremyfisher/miniconda3/envs/nlp/lib/python3.7/site-packages/skl2onnx/common/_container.py:569: UserWarning: Unable to find operator 'Tokenizer' in domain 'com.microsoft' in ONNX, op_version is forced to 1.\n",
      "  op_type, domain))\n"
     ]
    }
   ],
   "source": [
    "onx = convert_sklearn(\n",
    "    pipeline,\n",
    "    \"autoicd-kiss\",\n",
    "    initial_types=[\n",
    "        (\"input\", StringTensorType(shape=[None, 1]))\n",
    "    ],\n",
    "    options={\n",
    "        TfidfVectorizer: {\n",
    "            \"separators\": [\n",
    "                ' ', '.', '\\\\?', ',', ';', ':', '!',\n",
    "                '\\\\(', '\\\\)', '\\n', '\"', \"'\",\n",
    "                \"-\", \"\\\\[\", \"\\\\]\", \"@\"\n",
    "            ]\n",
    "        }\n",
    "    }\n",
    ")\n",
    "with open(\"rf_iris.onnx\", \"wb\") as f:\n",
    "    f.write(onx.SerializeToString())"
   ]
  },
  {
   "cell_type": "code",
   "execution_count": 200,
   "metadata": {},
   "outputs": [
    {
     "name": "stdout",
     "output_type": "stream",
     "text": [
      "predict 1\n",
      "predict_proba 1\n"
     ]
    }
   ],
   "source": [
    "sess = rt.InferenceSession(\"rf_iris.onnx\")\n",
    "pred_onx = sess.run(None, {\"input\": X_test})[0]\n",
    "print(\"predict\", pred_onx[0])\n",
    "print(\"predict_proba\", pred_onx[1])"
   ]
  }
 ],
 "metadata": {
  "kernelspec": {
   "display_name": "NLP",
   "language": "python",
   "name": "nlp"
  },
  "language_info": {
   "codemirror_mode": {
    "name": "ipython",
    "version": 3
   },
   "file_extension": ".py",
   "mimetype": "text/x-python",
   "name": "python",
   "nbconvert_exporter": "python",
   "pygments_lexer": "ipython3",
   "version": "3.7.7"
  }
 },
 "nbformat": 4,
 "nbformat_minor": 4
}
