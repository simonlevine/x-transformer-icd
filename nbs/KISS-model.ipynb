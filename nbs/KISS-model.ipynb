{
 "cells": [
  {
   "cell_type": "markdown",
   "metadata": {},
   "source": [
    "# KISS Model\n",
    "\n",
    "Simplest possible model that still (sort of) accomplishes our goal, mostly for rapid prototyping"
   ]
  },
  {
   "cell_type": "code",
   "execution_count": null,
   "metadata": {},
   "outputs": [],
   "source": [
    "from sklearn.model_selection import train_test_split\n",
    "import pandas as pd\n",
    "import matplotlib.pyplot as plt\n",
    "from sklearn.feature_extraction.text import TfidfVectorizer\n",
    "from sklearn.ensemble import RandomForestClassifier"
   ]
  },
  {
   "cell_type": "code",
   "execution_count": null,
   "metadata": {},
   "outputs": [],
   "source": [
    "diagnosis_df = pd.read_csv(\n",
    "    \"../data/mimiciii-14/DIAGNOSES_ICD.csv.gz\", usecols=[\"HADM_ID\", \"ICD9_CODE\"]\n",
    ")\n",
    "note_events_df = pd.read_csv(\n",
    "    \"../data/mimiciii-14/NOTEEVENTS.csv.gz\", usecols=[\"HADM_ID\", \"TEXT\"]\n",
    ")\n",
    "df = (note_events_df.merge(diagnosis_df)\n",
    "      .set_index(\"HADM_ID\")\n",
    "      .dropna())\n",
    "df.head()"
   ]
  },
  {
   "cell_type": "code",
   "execution_count": null,
   "metadata": {},
   "outputs": [],
   "source": [
    "codes_freq = df.groupby(\"ICD9_CODE\").size().sort_values()\n",
    "most_frequent = set(codes_freq.index[:-100])\n",
    "df_subset = df[df.ICD9_CODE.isin(most_frequent)]"
   ]
  },
  {
   "cell_type": "code",
   "execution_count": null,
   "metadata": {},
   "outputs": [],
   "source": [
    "corpus = df_subset[\"TEXT\"]\n",
    "y = df_subset[\"ICD9_CODE\"]\n",
    "corpus_train, corpus_test, y_train, y_test \\\n",
    "    = train_test_split(corpus, y, test_size=0.33, random_state=42)"
   ]
  },
  {
   "cell_type": "code",
   "execution_count": null,
   "metadata": {},
   "outputs": [],
   "source": [
    "vectorizer = TfidfVectorizer()\n",
    "corpus_train_embedded = vectorizer.fit_transform(corpus_train)\n",
    "corpus_test_embedded = vectorizer.transform(corpus_test)"
   ]
  },
  {
   "cell_type": "code",
   "execution_count": null,
   "metadata": {},
   "outputs": [],
   "source": [
    "clf = RandomForestClassifier()\n",
    "clf.fit(corpus_train_embedded, y_train)"
   ]
  },
  {
   "cell_type": "code",
   "execution_count": null,
   "metadata": {},
   "outputs": [],
   "source": []
  }
 ],
 "metadata": {
  "kernelspec": {
   "display_name": "Crunch",
   "language": "python",
   "name": "crunch"
  },
  "language_info": {
   "codemirror_mode": {
    "name": "ipython",
    "version": 3
   },
   "file_extension": ".py",
   "mimetype": "text/x-python",
   "name": "python",
   "nbconvert_exporter": "python",
   "pygments_lexer": "ipython3",
   "version": "3.8.1"
  }
 },
 "nbformat": 4,
 "nbformat_minor": 4
}
