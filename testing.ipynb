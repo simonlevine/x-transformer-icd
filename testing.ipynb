{
 "cells": [
  {
   "cell_type": "code",
   "execution_count": 2,
   "metadata": {
    "tags": []
   },
   "outputs": [
    {
     "output_type": "stream",
     "name": "stdout",
     "text": "/Users/simon/GitHub/auto-icd-transformers/run_preprocess_label.sh: line 1: !/bin/bash: No such file or directory\n/Users/simon/GitHub/auto-icd-transformers/run_preprocess_label.sh: line 2: DATASET: command not found\n/Users/simon/GitHub/auto-icd-transformers/run_preprocess_label.sh: line 9: /Users/simon/autoicd_local/data/xbert_inputs/X.trn.npz: Permission denied\n/Users/simon/GitHub/auto-icd-transformers/run_preprocess_label.sh: line 13: /Users/simon/autoicd_local/xbert_out/proc_data: is a directory\nusage: mkdir [-pv] [-m mode] directory ...\n\u001b[32m2020-06-29 16:11:50.752\u001b[0m | \u001b[1mINFO    \u001b[0m | \u001b[36m__main__\u001b[0m:\u001b[36m<module>\u001b[0m:\u001b[36m22\u001b[0m - \u001b[1mLoading pre-trained BioClinicalBERT tokenizer (1/4)...\u001b[0m\n\u001b[32m2020-06-29 16:11:50.778\u001b[0m | \u001b[1mINFO    \u001b[0m | \u001b[36m__main__\u001b[0m:\u001b[36m<module>\u001b[0m:\u001b[36m25\u001b[0m - \u001b[1mLoading pre-trained BioClinicalBERT model (2/4)...\u001b[0m\n\u001b[32m2020-06-29 16:11:52.458\u001b[0m | \u001b[1mINFO    \u001b[0m | \u001b[36m__main__\u001b[0m:\u001b[36m<module>\u001b[0m:\u001b[36m28\u001b[0m - \u001b[1mLoading pre-trained BioClinicalBERT config (3/4)...\u001b[0m\n\u001b[32m2020-06-29 16:11:52.460\u001b[0m | \u001b[1mINFO    \u001b[0m | \u001b[36m__main__\u001b[0m:\u001b[36m<module>\u001b[0m:\u001b[36m32\u001b[0m - \u001b[1mLoading pre-trained BioClinicalBERT model-for-sequence-classification (4/4)...\u001b[0m\nSome weights of the model checkpoint at /Users/simon/autoicd_local/pretrained_bert_tf/biobert_pretrain_output_all_notes_150000 were not used when initializing BertForSequenceClassification: ['cls.predictions.bias', 'cls.predictions.transform.dense.weight', 'cls.predictions.transform.dense.bias', 'cls.predictions.transform.LayerNorm.weight', 'cls.predictions.transform.LayerNorm.bias', 'cls.predictions.decoder.weight', 'cls.seq_relationship.weight', 'cls.seq_relationship.bias']\n- This IS expected if you are initializing BertForSequenceClassification from the checkpoint of a model trained on another task or with another architecture (e.g. initializing a BertForSequenceClassification model from a BertForPretraining model).\n- This IS NOT expected if you are initializing BertForSequenceClassification from the checkpoint of a model that you expect to be exactly identical (initializing a BertForSequenceClassification model from a BertForSequenceClassification model).\nSome weights of BertForSequenceClassification were not initialized from the model checkpoint at /Users/simon/autoicd_local/pretrained_bert_tf/biobert_pretrain_output_all_notes_150000 and are newly initialized: ['classifier.weight', 'classifier.bias']\nYou should probably TRAIN this model on a down-stream task to be able to use it for predictions and inference.\nusage: preprocess.py [-h] -i DIR -o DIR [--do_proc_feat] [--do_proc_label]\n                     [--do_label_embedding] [-m MODEL_TYPE]\n                     [-n MODEL_NAME_OR_PATH] [--config_name CONFIG_NAME]\n                     [--tokenizer_name TOKENIZER_NAME] [--cache_dir CACHE_DIR]\n                     [--do_lower_case] [--max_xseq_len MAX_XSEQ_LEN]\n                     [--max_trunc_char MAX_TRUNC_CHAR] [-l LABEL_EMB_NAME]\n                     [-c PATH] [-x INST_EMBEDDING]\npreprocess.py: error: argument -o/--output-data-dir: expected one argument\n"
    }
   ],
   "source": [
    "!/Users/simon/GitHub/auto-icd-transformers/run_preprocess_label.sh"
   ]
  },
  {
   "cell_type": "code",
   "execution_count": null,
   "metadata": {},
   "outputs": [],
   "source": []
  }
 ],
 "metadata": {
  "language_info": {
   "codemirror_mode": {
    "name": "ipython",
    "version": 3
   },
   "file_extension": ".py",
   "mimetype": "text/x-python",
   "name": "python",
   "nbconvert_exporter": "python",
   "pygments_lexer": "ipython3",
   "version": "3.8.1-final"
  },
  "orig_nbformat": 2,
  "kernelspec": {
   "name": "python38164bit7f38ed5532dc4b83b9571ffd2a5a03da",
   "display_name": "Python 3.8.1 64-bit"
  }
 },
 "nbformat": 4,
 "nbformat_minor": 2
}