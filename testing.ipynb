{
 "cells": [
  {
   "cell_type": "code",
   "execution_count": 1,
   "metadata": {
    "tags": []
   },
   "outputs": [
    {
     "output_type": "stream",
     "name": "stdout",
     "text": "\u001b[32m2020-06-29 16:22:13.969\u001b[0m | \u001b[1mINFO    \u001b[0m | \u001b[36m__main__\u001b[0m:\u001b[36m<module>\u001b[0m:\u001b[36m22\u001b[0m - \u001b[1mLoading pre-trained BioClinicalBERT tokenizer (1/4)...\u001b[0m\n\u001b[32m2020-06-29 16:22:13.993\u001b[0m | \u001b[1mINFO    \u001b[0m | \u001b[36m__main__\u001b[0m:\u001b[36m<module>\u001b[0m:\u001b[36m25\u001b[0m - \u001b[1mLoading pre-trained BioClinicalBERT model (2/4)...\u001b[0m\n\u001b[32m2020-06-29 16:22:15.670\u001b[0m | \u001b[1mINFO    \u001b[0m | \u001b[36m__main__\u001b[0m:\u001b[36m<module>\u001b[0m:\u001b[36m28\u001b[0m - \u001b[1mLoading pre-trained BioClinicalBERT config (3/4)...\u001b[0m\n\u001b[32m2020-06-29 16:22:15.671\u001b[0m | \u001b[1mINFO    \u001b[0m | \u001b[36m__main__\u001b[0m:\u001b[36m<module>\u001b[0m:\u001b[36m32\u001b[0m - \u001b[1mLoading pre-trained BioClinicalBERT model-for-sequence-classification (4/4)...\u001b[0m\nSome weights of the model checkpoint at /Users/simon/autoicd_local/pretrained_bert_tf/biobert_pretrain_output_all_notes_150000 were not used when initializing BertForSequenceClassification: ['cls.predictions.bias', 'cls.predictions.transform.dense.weight', 'cls.predictions.transform.dense.bias', 'cls.predictions.transform.LayerNorm.weight', 'cls.predictions.transform.LayerNorm.bias', 'cls.predictions.decoder.weight', 'cls.seq_relationship.weight', 'cls.seq_relationship.bias']\n- This IS expected if you are initializing BertForSequenceClassification from the checkpoint of a model trained on another task or with another architecture (e.g. initializing a BertForSequenceClassification model from a BertForPretraining model).\n- This IS NOT expected if you are initializing BertForSequenceClassification from the checkpoint of a model that you expect to be exactly identical (initializing a BertForSequenceClassification model from a BertForSequenceClassification model).\nSome weights of BertForSequenceClassification were not initialized from the model checkpoint at /Users/simon/autoicd_local/pretrained_bert_tf/biobert_pretrain_output_all_notes_150000 and are newly initialized: ['classifier.weight', 'classifier.bias']\nYou should probably TRAIN this model on a down-stream task to be able to use it for predictions and inference.\nNamespace(cache_dir='', config_name='', do_label_embedding=True, do_lower_case=False, do_proc_feat=False, do_proc_label=False, input_code_path='./save_models/mimiciii-14/pifa-tfidf-a5-s0/indexer/code.npz', input_data_dir='/Users/simon/autoicd_local/xbert_inputs/mimiciii-14', inst_embedding='/Users/simon/autoicd_local/xbert_inputs/mimiciii-14/X.trn.npz', label_emb_name='pifa-tfidf', max_trunc_char=4096, max_xseq_len=128, model_name_or_path='bert-large-cased-whole-word-masking', model_type='bert', output_data_dir='/Users/simon/autoicd_local/xbert_out/proc_data', tokenizer_name='')\n06/29/2020 16:22:19 - INFO - __main__ -   X <class 'scipy.sparse.csr.csr_matrix'> (33919, 179241) Y <class 'scipy.sparse.csr.csr_matrix'> (33919, 9884)\n06/29/2020 16:22:20 - INFO - __main__ -   label_embedding <class 'scipy.sparse.csr.csr_matrix'> (9884, 179241)\n"
    }
   ],
   "source": [
    "!/Users/simon/GitHub/auto-icd-transformers/run_preprocess_label.sh"
   ]
  },
  {
   "cell_type": "code",
   "execution_count": 2,
   "metadata": {
    "tags": []
   },
   "outputs": [
    {
     "output_type": "stream",
     "name": "stdout",
     "text": "rm -rf go-linear rf_linear*.so *.o\nSO=rf_linear; \\\n\tif [ \"Darwin\" = \"Darwin\" ]; then \\\n\t\tSHARED_LIB_FLAG=\"-dynamiclib -Wl,-install_name,${SO}\"; \\\n\t\tBLAS_LIB_FLAG=\"-framework Accelerate\";\\\n\telse \\\n\t\tSHARED_LIB_FLAG=\"-shared -Wl,-soname,${SO}\"; \\\n\t\tBLAS_LIB_FLAG=\" -Wl,--as-needed -Wl,-rpath,/opt/anaconda3/lib -L/opt/anaconda3/lib -lmkl_rt -lpthread -liomp5\";\\\n\tfi; \\\n\techo CXXFLAGs=-fopenmp -march=native -O3 -std=c++11 -fPIC; \\\n\techo BLAS_LIB_FLAG=${BLAS_LIB_FLAG}; \\\n\tg++ -fopenmp -march=native -O3 -std=c++11 -fPIC -D ValueType=float ${SHARED_LIB_FLAG} -o ${SO}_float32.so rf_linear.cpp ${BLAS_LIB_FLAG} ; \\\n\tg++ -fopenmp -march=native -O3 -std=c++11 -fPIC -D ValueType=double ${SHARED_LIB_FLAG} -o ${SO}_float64.so rf_linear.cpp ${BLAS_LIB_FLAG}; \\\n\nCXXFLAGs=-fopenmp -march=native -O3 -std=c++11 -fPIC\nBLAS_LIB_FLAG=-framework Accelerate\nclang: \u001b[0;1;31merror: \u001b[0munsupported option '-fopenmp'\u001b[0m\nclang: \u001b[0;1;31merror: \u001b[0munsupported option '-fopenmp'\u001b[0m\nclang: \u001b[0;1;31merror: \u001b[0munsupported option '-fopenmp'\u001b[0m\nclang: \u001b[0;1;31merror: \u001b[0munsupported option '-fopenmp'\u001b[0m\nmake: *** [rf_linear_so] Error 1\nTraceback (most recent call last):\n  File \"/Users/simon/GitHub/auto-icd-transformers/xbert/rf_util.py\", line 26, in load_dynamic_library\n    path_to_so = glob(path.join(dirname, soname) + \"*.so\")[0]\nIndexError: list index out of range\n\nDuring handling of the above exception, another exception occurred:\n\nTraceback (most recent call last):\n  File \"/Users/simon/GitHub/auto-icd-transformers/xbert/rf_util.py\", line 31, in load_dynamic_library\n    path_to_so = glob(path.join(dirname, soname) + \"*.so\")[0]\nIndexError: list index out of range\n\nDuring handling of the above exception, another exception occurred:\n\nTraceback (most recent call last):\n  File \"/opt/anaconda3/lib/python3.7/runpy.py\", line 193, in _run_module_as_main\n    \"__main__\", mod_spec)\n  File \"/opt/anaconda3/lib/python3.7/runpy.py\", line 85, in _run_code\n    exec(code, run_globals)\n  File \"/Users/simon/GitHub/auto-icd-transformers/xbert/indexer.py\", line 128, in <module>\n    clib = corelib(corelib_path, soname, forced_rebuild)\n  File \"/Users/simon/GitHub/auto-icd-transformers/xbert/indexer.py\", line 96, in __init__\n    self.clib_float32 = load_dynamic_library(dirname, soname + \"_float32\", forced_rebuild=forced_rebuild)\n  File \"/Users/simon/GitHub/auto-icd-transformers/xbert/rf_util.py\", line 34, in load_dynamic_library\n    raise Exception(\"{soname} library cannot be found and built.\".format(soname=soname))\nException: rf_linear_float32 library cannot be found and built.\nrm -rf go-linear rf_linear*.so *.o\nSO=rf_linear; \\\n\tif [ \"Darwin\" = \"Darwin\" ]; then \\\n\t\tSHARED_LIB_FLAG=\"-dynamiclib -Wl,-install_name,${SO}\"; \\\n\t\tBLAS_LIB_FLAG=\"-framework Accelerate\";\\\n\telse \\\n\t\tSHARED_LIB_FLAG=\"-shared -Wl,-soname,${SO}\"; \\\n\t\tBLAS_LIB_FLAG=\" -Wl,--as-needed -Wl,-rpath,/opt/anaconda3/lib -L/opt/anaconda3/lib -lmkl_rt -lpthread -liomp5\";\\\n\tfi; \\\n\techo CXXFLAGs=-fopenmp -march=native -O3 -std=c++11 -fPIC; \\\n\techo BLAS_LIB_FLAG=${BLAS_LIB_FLAG}; \\\n\tg++ -fopenmp -march=native -O3 -std=c++11 -fPIC -D ValueType=float ${SHARED_LIB_FLAG} -o ${SO}_float32.so rf_linear.cpp ${BLAS_LIB_FLAG} ; \\\n\tg++ -fopenmp -march=native -O3 -std=c++11 -fPIC -D ValueType=double ${SHARED_LIB_FLAG} -o ${SO}_float64.so rf_linear.cpp ${BLAS_LIB_FLAG}; \\\n\nCXXFLAGs=-fopenmp -march=native -O3 -std=c++11 -fPIC\nBLAS_LIB_FLAG=-framework Accelerate\nclang: \u001b[0;1;31merror: \u001b[0munsupported option '-fopenmp'\u001b[0m\nclang: \u001b[0;1;31merror: \u001b[0munsupported option '-fopenmp'\u001b[0m\nclang: \u001b[0;1;31merror: \u001b[0munsupported option '-fopenmp'\u001b[0m\nclang: \u001b[0;1;31merror: \u001b[0munsupported option '-fopenmp'\u001b[0m\nmake: *** [rf_linear_so] Error 1\nTraceback (most recent call last):\n  File \"/Users/simon/GitHub/auto-icd-transformers/xbert/rf_util.py\", line 26, in load_dynamic_library\n    path_to_so = glob(path.join(dirname, soname) + \"*.so\")[0]\nIndexError: list index out of range\n\nDuring handling of the above exception, another exception occurred:\n\nTraceback (most recent call last):\n  File \"/Users/simon/GitHub/auto-icd-transformers/xbert/rf_util.py\", line 31, in load_dynamic_library\n    path_to_so = glob(path.join(dirname, soname) + \"*.so\")[0]\nIndexError: list index out of range\n\nDuring handling of the above exception, another exception occurred:\n\nTraceback (most recent call last):\n  File \"/opt/anaconda3/lib/python3.7/runpy.py\", line 193, in _run_module_as_main\n    \"__main__\", mod_spec)\n  File \"/opt/anaconda3/lib/python3.7/runpy.py\", line 85, in _run_code\n    exec(code, run_globals)\n  File \"/Users/simon/GitHub/auto-icd-transformers/xbert/indexer.py\", line 128, in <module>\n    clib = corelib(corelib_path, soname, forced_rebuild)\n  File \"/Users/simon/GitHub/auto-icd-transformers/xbert/indexer.py\", line 96, in __init__\n    self.clib_float32 = load_dynamic_library(dirname, soname + \"_float32\", forced_rebuild=forced_rebuild)\n  File \"/Users/simon/GitHub/auto-icd-transformers/xbert/rf_util.py\", line 34, in load_dynamic_library\n    raise Exception(\"{soname} library cannot be found and built.\".format(soname=soname))\nException: rf_linear_float32 library cannot be found and built.\nrm -rf go-linear rf_linear*.so *.o\nSO=rf_linear; \\\n\tif [ \"Darwin\" = \"Darwin\" ]; then \\\n\t\tSHARED_LIB_FLAG=\"-dynamiclib -Wl,-install_name,${SO}\"; \\\n\t\tBLAS_LIB_FLAG=\"-framework Accelerate\";\\\n\telse \\\n\t\tSHARED_LIB_FLAG=\"-shared -Wl,-soname,${SO}\"; \\\n\t\tBLAS_LIB_FLAG=\" -Wl,--as-needed -Wl,-rpath,/opt/anaconda3/lib -L/opt/anaconda3/lib -lmkl_rt -lpthread -liomp5\";\\\n\tfi; \\\n\techo CXXFLAGs=-fopenmp -march=native -O3 -std=c++11 -fPIC; \\\n\techo BLAS_LIB_FLAG=${BLAS_LIB_FLAG}; \\\n\tg++ -fopenmp -march=native -O3 -std=c++11 -fPIC -D ValueType=float ${SHARED_LIB_FLAG} -o ${SO}_float32.so rf_linear.cpp ${BLAS_LIB_FLAG} ; \\\n\tg++ -fopenmp -march=native -O3 -std=c++11 -fPIC -D ValueType=double ${SHARED_LIB_FLAG} -o ${SO}_float64.so rf_linear.cpp ${BLAS_LIB_FLAG}; \\\n\nCXXFLAGs=-fopenmp -march=native -O3 -std=c++11 -fPIC\nBLAS_LIB_FLAG=-framework Accelerate\nclang: \u001b[0;1;31merror: \u001b[0munsupported option '-fopenmp'\u001b[0m\nclang: \u001b[0;1;31merror: \u001b[0munsupported option '-fopenmp'\u001b[0m\nclang: \u001b[0;1;31merror: \u001b[0munsupported option '-fopenmp'\u001b[0m\nclang: \u001b[0;1;31merror: \u001b[0munsupported option '-fopenmp'\u001b[0m\nmake: *** [rf_linear_so] Error 1\nTraceback (most recent call last):\n  File \"/Users/simon/GitHub/auto-icd-transformers/xbert/rf_util.py\", line 26, in load_dynamic_library\n    path_to_so = glob(path.join(dirname, soname) + \"*.so\")[0]\nIndexError: list index out of range\n\nDuring handling of the above exception, another exception occurred:\n\nTraceback (most recent call last):\n  File \"/Users/simon/GitHub/auto-icd-transformers/xbert/rf_util.py\", line 31, in load_dynamic_library\n    path_to_so = glob(path.join(dirname, soname) + \"*.so\")[0]\nIndexError: list index out of range\n\nDuring handling of the above exception, another exception occurred:\n\nTraceback (most recent call last):\n  File \"/opt/anaconda3/lib/python3.7/runpy.py\", line 193, in _run_module_as_main\n    \"__main__\", mod_spec)\n  File \"/opt/anaconda3/lib/python3.7/runpy.py\", line 85, in _run_code\n    exec(code, run_globals)\n  File \"/Users/simon/GitHub/auto-icd-transformers/xbert/indexer.py\", line 128, in <module>\n    clib = corelib(corelib_path, soname, forced_rebuild)\n  File \"/Users/simon/GitHub/auto-icd-transformers/xbert/indexer.py\", line 96, in __init__\n    self.clib_float32 = load_dynamic_library(dirname, soname + \"_float32\", forced_rebuild=forced_rebuild)\n  File \"/Users/simon/GitHub/auto-icd-transformers/xbert/rf_util.py\", line 34, in load_dynamic_library\n    raise Exception(\"{soname} library cannot be found and built.\".format(soname=soname))\nException: rf_linear_float32 library cannot be found and built.\n"
    }
   ],
   "source": [
    "!/Users/simon/GitHub/auto-icd-transformers/run_preprocess_label.sh"
   ]
  },
  {
   "cell_type": "code",
   "execution_count": null,
   "metadata": {},
   "outputs": [],
   "source": [
    "pd.read"
   ]
  },
  {
   "cell_type": "code",
   "execution_count": null,
   "metadata": {},
   "outputs": [],
   "source": []
  }
 ],
 "metadata": {
  "language_info": {
   "codemirror_mode": {
    "name": "ipython",
    "version": 3
   },
   "file_extension": ".py",
   "mimetype": "text/x-python",
   "name": "python",
   "nbconvert_exporter": "python",
   "pygments_lexer": "ipython3",
   "version": "3.8.1-final"
  },
  "orig_nbformat": 2,
  "kernelspec": {
   "name": "python38164bit7f38ed5532dc4b83b9571ffd2a5a03da",
   "display_name": "Python 3.8.1 64-bit"
  }
 },
 "nbformat": 4,
 "nbformat_minor": 2
}