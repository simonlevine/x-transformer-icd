{
 "cells": [
  {
   "cell_type": "code",
   "execution_count": 5,
   "metadata": {},
   "outputs": [],
   "source": [
    "from pathlib import Path\n",
    "import pandas as pd\n",
    "import numpy as np\n",
    "from loguru import logger\n",
    "\n",
    "# from src.pipeline import format_data_for_training\n",
    "\n",
    "# format_data_for_training.construct_dataset()\n",
    "# df_train, df_test = format_data_for_training.construct_dataset()\n",
    "# df_test.sample(n=300).to_pickle('/Users/simon/autoicd_local/sampled_dataframes/df_test')\n",
    "# df_train.sample(n=1000).to_pickle('/Users/simon/autoicd_local/sampled_dataframes/df_train')"
   ]
  },
  {
   "cell_type": "code",
   "execution_count": 6,
   "metadata": {},
   "outputs": [],
   "source": [
    "df_test=pd.read_pickle('/Users/simon/autoicd_local/sampled_dataframes/df_test')\n",
    "df_train= pd.read_pickle('/Users/simon/autoicd_local/sampled_dataframes/df_train')\n",
    "df_test.head()"
   ]
  },
  {
   "cell_type": "code",
   "execution_count": 10,
   "metadata": {},
   "outputs": [
    {
     "output_type": "execute_result",
     "data": {
      "text/plain": "        HADM_ID                                               TEXT  SEQ_NUM  \\\n28268  164142.0  Admission Date:  [**2118-9-19**]              ...      1.0   \n24053  180986.0  Admission Date:  [**2172-8-24**]              ...      1.0   \n46584  195768.0  Admission Date:  [**2178-2-6**]              D...      1.0   \n53623  185159.0  Admission Date:  [**2162-10-21**]             ...      1.0   \n14367  175371.0  Admission Date:  [**2150-6-23**]              ...      1.0   \n\n      ICD9_CODE                                    LONG_TITLE_ICD9  \\\n28268     03849    Other septicemia due to gram-negative organisms   \n24053     44024  Atherosclerosis of native arteries of the extr...   \n46584      5789  Hemorrhage of gastrointestinal tract, unspecified   \n53623     86383  Injury to pancreas, tail, without mention of o...   \n14367     40391  Hypertensive chronic kidney disease, unspecifi...   \n\n       ICD10_CODE                                   LONG_TITLE_ICD10  \n28268    {A41.59}                       {Other Gram-negative sepsis}  \n24053   {I70.269}  {Atherosclerosis of native arteries of extremi...  \n46584     {K92.2}         {Gastrointestinal hemorrhage, unspecified}  \n53623  {S36.202A}  {Unspecified injury of tail of pancreas, initi...  \n14367     {I12.0}  {Hypertensive chronic kidney disease with stag...  ",
      "text/html": "<div>\n<style scoped>\n    .dataframe tbody tr th:only-of-type {\n        vertical-align: middle;\n    }\n\n    .dataframe tbody tr th {\n        vertical-align: top;\n    }\n\n    .dataframe thead th {\n        text-align: right;\n    }\n</style>\n<table border=\"1\" class=\"dataframe\">\n  <thead>\n    <tr style=\"text-align: right;\">\n      <th></th>\n      <th>HADM_ID</th>\n      <th>TEXT</th>\n      <th>SEQ_NUM</th>\n      <th>ICD9_CODE</th>\n      <th>LONG_TITLE_ICD9</th>\n      <th>ICD10_CODE</th>\n      <th>LONG_TITLE_ICD10</th>\n    </tr>\n  </thead>\n  <tbody>\n    <tr>\n      <th>28268</th>\n      <td>164142.0</td>\n      <td>Admission Date:  [**2118-9-19**]              ...</td>\n      <td>1.0</td>\n      <td>03849</td>\n      <td>Other septicemia due to gram-negative organisms</td>\n      <td>{A41.59}</td>\n      <td>{Other Gram-negative sepsis}</td>\n    </tr>\n    <tr>\n      <th>24053</th>\n      <td>180986.0</td>\n      <td>Admission Date:  [**2172-8-24**]              ...</td>\n      <td>1.0</td>\n      <td>44024</td>\n      <td>Atherosclerosis of native arteries of the extr...</td>\n      <td>{I70.269}</td>\n      <td>{Atherosclerosis of native arteries of extremi...</td>\n    </tr>\n    <tr>\n      <th>46584</th>\n      <td>195768.0</td>\n      <td>Admission Date:  [**2178-2-6**]              D...</td>\n      <td>1.0</td>\n      <td>5789</td>\n      <td>Hemorrhage of gastrointestinal tract, unspecified</td>\n      <td>{K92.2}</td>\n      <td>{Gastrointestinal hemorrhage, unspecified}</td>\n    </tr>\n    <tr>\n      <th>53623</th>\n      <td>185159.0</td>\n      <td>Admission Date:  [**2162-10-21**]             ...</td>\n      <td>1.0</td>\n      <td>86383</td>\n      <td>Injury to pancreas, tail, without mention of o...</td>\n      <td>{S36.202A}</td>\n      <td>{Unspecified injury of tail of pancreas, initi...</td>\n    </tr>\n    <tr>\n      <th>14367</th>\n      <td>175371.0</td>\n      <td>Admission Date:  [**2150-6-23**]              ...</td>\n      <td>1.0</td>\n      <td>40391</td>\n      <td>Hypertensive chronic kidney disease, unspecifi...</td>\n      <td>{I12.0}</td>\n      <td>{Hypertensive chronic kidney disease with stag...</td>\n    </tr>\n  </tbody>\n</table>\n</div>"
     },
     "metadata": {},
     "execution_count": 10
    }
   ],
   "source": []
  },
  {
   "cell_type": "code",
   "execution_count": null,
   "metadata": {},
   "outputs": [],
   "source": []
  }
 ],
 "metadata": {
  "language_info": {
   "codemirror_mode": {
    "name": "ipython",
    "version": 3
   },
   "file_extension": ".py",
   "mimetype": "text/x-python",
   "name": "python",
   "nbconvert_exporter": "python",
   "pygments_lexer": "ipython3",
   "version": "3.8.1-final"
  },
  "orig_nbformat": 2,
  "kernelspec": {
   "name": "python38164bit7f38ed5532dc4b83b9571ffd2a5a03da",
   "display_name": "Python 3.8.1 64-bit"
  }
 },
 "nbformat": 4,
 "nbformat_minor": 2
}